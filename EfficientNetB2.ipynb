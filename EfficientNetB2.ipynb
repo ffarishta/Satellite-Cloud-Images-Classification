{
  "nbformat": 4,
  "nbformat_minor": 0,
  "metadata": {
    "colab": {
      "provenance": [],
      "gpuType": "V100",
      "mount_file_id": "1OGM_a2fuySh--O5K_5HdVZvb6iQG91A-",
      "authorship_tag": "ABX9TyPJg2kOA+eTa6aV6pZbcKwQ",
      "include_colab_link": true
    },
    "kernelspec": {
      "name": "python3",
      "display_name": "Python 3"
    },
    "language_info": {
      "name": "python"
    },
    "accelerator": "GPU"
  },
  "cells": [
    {
      "cell_type": "markdown",
      "metadata": {
        "id": "view-in-github",
        "colab_type": "text"
      },
      "source": [
        "<a href=\"https://colab.research.google.com/github/ffarishta/Satellite-Cloud-Images-Classification/blob/main/EfficientNetB2.ipynb\" target=\"_parent\"><img src=\"https://colab.research.google.com/assets/colab-badge.svg\" alt=\"Open In Colab\"/></a>"
      ]
    },
    {
      "cell_type": "code",
      "source": [
        "import os\n",
        "import numpy as np\n",
        "import pandas as pd\n",
        "import cv2\n",
        "import matplotlib.pyplot as plt\n",
        "\n",
        "from sklearn.model_selection import train_test_split\n",
        "from tensorflow.keras.preprocessing.image import ImageDataGenerator\n",
        "from tensorflow.keras.layers import Dense, BatchNormalization, Activation, Concatenate, Dropout, GlobalAveragePooling2D\n",
        "from tensorflow.keras.models import Model, Sequential\n",
        "from sklearn.metrics import confusion_matrix, classification_report\n",
        "from keras.utils import Sequence\n",
        "from albumentations import Compose, VerticalFlip, HorizontalFlip, Rotate, GridDistortion\n",
        "from tensorflow.keras.applications.resnet50 import ResNet50\n",
        "from keras.callbacks import Callback\n",
        "import multiprocessing\n",
        "import keras.backend as K\n",
        "from tensorflow.keras.optimizers import Adam\n"
      ],
      "metadata": {
        "id": "RzymgSGna3bw"
      },
      "execution_count": 2,
      "outputs": []
    },
    {
      "cell_type": "code",
      "execution_count": 3,
      "metadata": {
        "id": "3wy3y99wYPxZ"
      },
      "outputs": [],
      "source": [
        "df = pd.read_csv('/content/drive/MyDrive/understanding_cloud_organization/train.csv')\n",
        "num_cores = multiprocessing.cpu_count()\n",
        "\n"
      ]
    },
    {
      "cell_type": "code",
      "source": [
        "df = df[~df['EncodedPixels'].isnull()].copy()\n",
        "\n",
        "df['Image'] = df['Image_Label'].map(lambda x: x.split('_')[0])\n",
        "df['Class'] = df['Image_Label'].map(lambda x: x.split('_')[1])\n",
        "\n",
        "classes = df['Class'].unique()\n",
        "\n",
        "# Group and reset index\n",
        "df = df.groupby('Image')['Class'].agg(set).reset_index()\n",
        "\n",
        "# Add columns for each class\n",
        "for class_name in classes:\n",
        "    df[class_name] = df['Class'].map(lambda x: 1 if class_name in x else 0)\n",
        "\n",
        "df.head()\n"
      ],
      "metadata": {
        "colab": {
          "base_uri": "https://localhost:8080/",
          "height": 206
        },
        "id": "XJkL2guna_kN",
        "outputId": "cc62003e-923b-4b40-a3cd-a3c47995b9af"
      },
      "execution_count": 4,
      "outputs": [
        {
          "output_type": "execute_result",
          "data": {
            "text/plain": [
              "         Image                  Class  Fish  Flower  Sugar  Gravel\n",
              "0  0011165.jpg         {Fish, Flower}     1       1      0       0\n",
              "1  002be4f.jpg  {Fish, Flower, Sugar}     1       1      1       0\n",
              "2  0031ae9.jpg  {Fish, Flower, Sugar}     1       1      1       0\n",
              "3  0035239.jpg       {Flower, Gravel}     0       1      0       1\n",
              "4  003994e.jpg  {Fish, Gravel, Sugar}     1       0      1       1"
            ],
            "text/html": [
              "\n",
              "  <div id=\"df-5bc31fca-d340-42a0-81b4-43455ea49e43\" class=\"colab-df-container\">\n",
              "    <div>\n",
              "<style scoped>\n",
              "    .dataframe tbody tr th:only-of-type {\n",
              "        vertical-align: middle;\n",
              "    }\n",
              "\n",
              "    .dataframe tbody tr th {\n",
              "        vertical-align: top;\n",
              "    }\n",
              "\n",
              "    .dataframe thead th {\n",
              "        text-align: right;\n",
              "    }\n",
              "</style>\n",
              "<table border=\"1\" class=\"dataframe\">\n",
              "  <thead>\n",
              "    <tr style=\"text-align: right;\">\n",
              "      <th></th>\n",
              "      <th>Image</th>\n",
              "      <th>Class</th>\n",
              "      <th>Fish</th>\n",
              "      <th>Flower</th>\n",
              "      <th>Sugar</th>\n",
              "      <th>Gravel</th>\n",
              "    </tr>\n",
              "  </thead>\n",
              "  <tbody>\n",
              "    <tr>\n",
              "      <th>0</th>\n",
              "      <td>0011165.jpg</td>\n",
              "      <td>{Fish, Flower}</td>\n",
              "      <td>1</td>\n",
              "      <td>1</td>\n",
              "      <td>0</td>\n",
              "      <td>0</td>\n",
              "    </tr>\n",
              "    <tr>\n",
              "      <th>1</th>\n",
              "      <td>002be4f.jpg</td>\n",
              "      <td>{Fish, Flower, Sugar}</td>\n",
              "      <td>1</td>\n",
              "      <td>1</td>\n",
              "      <td>1</td>\n",
              "      <td>0</td>\n",
              "    </tr>\n",
              "    <tr>\n",
              "      <th>2</th>\n",
              "      <td>0031ae9.jpg</td>\n",
              "      <td>{Fish, Flower, Sugar}</td>\n",
              "      <td>1</td>\n",
              "      <td>1</td>\n",
              "      <td>1</td>\n",
              "      <td>0</td>\n",
              "    </tr>\n",
              "    <tr>\n",
              "      <th>3</th>\n",
              "      <td>0035239.jpg</td>\n",
              "      <td>{Flower, Gravel}</td>\n",
              "      <td>0</td>\n",
              "      <td>1</td>\n",
              "      <td>0</td>\n",
              "      <td>1</td>\n",
              "    </tr>\n",
              "    <tr>\n",
              "      <th>4</th>\n",
              "      <td>003994e.jpg</td>\n",
              "      <td>{Fish, Gravel, Sugar}</td>\n",
              "      <td>1</td>\n",
              "      <td>0</td>\n",
              "      <td>1</td>\n",
              "      <td>1</td>\n",
              "    </tr>\n",
              "  </tbody>\n",
              "</table>\n",
              "</div>\n",
              "    <div class=\"colab-df-buttons\">\n",
              "\n",
              "  <div class=\"colab-df-container\">\n",
              "    <button class=\"colab-df-convert\" onclick=\"convertToInteractive('df-5bc31fca-d340-42a0-81b4-43455ea49e43')\"\n",
              "            title=\"Convert this dataframe to an interactive table.\"\n",
              "            style=\"display:none;\">\n",
              "\n",
              "  <svg xmlns=\"http://www.w3.org/2000/svg\" height=\"24px\" viewBox=\"0 -960 960 960\">\n",
              "    <path d=\"M120-120v-720h720v720H120Zm60-500h600v-160H180v160Zm220 220h160v-160H400v160Zm0 220h160v-160H400v160ZM180-400h160v-160H180v160Zm440 0h160v-160H620v160ZM180-180h160v-160H180v160Zm440 0h160v-160H620v160Z\"/>\n",
              "  </svg>\n",
              "    </button>\n",
              "\n",
              "  <style>\n",
              "    .colab-df-container {\n",
              "      display:flex;\n",
              "      gap: 12px;\n",
              "    }\n",
              "\n",
              "    .colab-df-convert {\n",
              "      background-color: #E8F0FE;\n",
              "      border: none;\n",
              "      border-radius: 50%;\n",
              "      cursor: pointer;\n",
              "      display: none;\n",
              "      fill: #1967D2;\n",
              "      height: 32px;\n",
              "      padding: 0 0 0 0;\n",
              "      width: 32px;\n",
              "    }\n",
              "\n",
              "    .colab-df-convert:hover {\n",
              "      background-color: #E2EBFA;\n",
              "      box-shadow: 0px 1px 2px rgba(60, 64, 67, 0.3), 0px 1px 3px 1px rgba(60, 64, 67, 0.15);\n",
              "      fill: #174EA6;\n",
              "    }\n",
              "\n",
              "    .colab-df-buttons div {\n",
              "      margin-bottom: 4px;\n",
              "    }\n",
              "\n",
              "    [theme=dark] .colab-df-convert {\n",
              "      background-color: #3B4455;\n",
              "      fill: #D2E3FC;\n",
              "    }\n",
              "\n",
              "    [theme=dark] .colab-df-convert:hover {\n",
              "      background-color: #434B5C;\n",
              "      box-shadow: 0px 1px 3px 1px rgba(0, 0, 0, 0.15);\n",
              "      filter: drop-shadow(0px 1px 2px rgba(0, 0, 0, 0.3));\n",
              "      fill: #FFFFFF;\n",
              "    }\n",
              "  </style>\n",
              "\n",
              "    <script>\n",
              "      const buttonEl =\n",
              "        document.querySelector('#df-5bc31fca-d340-42a0-81b4-43455ea49e43 button.colab-df-convert');\n",
              "      buttonEl.style.display =\n",
              "        google.colab.kernel.accessAllowed ? 'block' : 'none';\n",
              "\n",
              "      async function convertToInteractive(key) {\n",
              "        const element = document.querySelector('#df-5bc31fca-d340-42a0-81b4-43455ea49e43');\n",
              "        const dataTable =\n",
              "          await google.colab.kernel.invokeFunction('convertToInteractive',\n",
              "                                                    [key], {});\n",
              "        if (!dataTable) return;\n",
              "\n",
              "        const docLinkHtml = 'Like what you see? Visit the ' +\n",
              "          '<a target=\"_blank\" href=https://colab.research.google.com/notebooks/data_table.ipynb>data table notebook</a>'\n",
              "          + ' to learn more about interactive tables.';\n",
              "        element.innerHTML = '';\n",
              "        dataTable['output_type'] = 'display_data';\n",
              "        await google.colab.output.renderOutput(dataTable, element);\n",
              "        const docLink = document.createElement('div');\n",
              "        docLink.innerHTML = docLinkHtml;\n",
              "        element.appendChild(docLink);\n",
              "      }\n",
              "    </script>\n",
              "  </div>\n",
              "\n",
              "\n",
              "<div id=\"df-50235d64-c90b-4452-8f78-2312a3c86630\">\n",
              "  <button class=\"colab-df-quickchart\" onclick=\"quickchart('df-50235d64-c90b-4452-8f78-2312a3c86630')\"\n",
              "            title=\"Suggest charts\"\n",
              "            style=\"display:none;\">\n",
              "\n",
              "<svg xmlns=\"http://www.w3.org/2000/svg\" height=\"24px\"viewBox=\"0 0 24 24\"\n",
              "     width=\"24px\">\n",
              "    <g>\n",
              "        <path d=\"M19 3H5c-1.1 0-2 .9-2 2v14c0 1.1.9 2 2 2h14c1.1 0 2-.9 2-2V5c0-1.1-.9-2-2-2zM9 17H7v-7h2v7zm4 0h-2V7h2v10zm4 0h-2v-4h2v4z\"/>\n",
              "    </g>\n",
              "</svg>\n",
              "  </button>\n",
              "\n",
              "<style>\n",
              "  .colab-df-quickchart {\n",
              "      --bg-color: #E8F0FE;\n",
              "      --fill-color: #1967D2;\n",
              "      --hover-bg-color: #E2EBFA;\n",
              "      --hover-fill-color: #174EA6;\n",
              "      --disabled-fill-color: #AAA;\n",
              "      --disabled-bg-color: #DDD;\n",
              "  }\n",
              "\n",
              "  [theme=dark] .colab-df-quickchart {\n",
              "      --bg-color: #3B4455;\n",
              "      --fill-color: #D2E3FC;\n",
              "      --hover-bg-color: #434B5C;\n",
              "      --hover-fill-color: #FFFFFF;\n",
              "      --disabled-bg-color: #3B4455;\n",
              "      --disabled-fill-color: #666;\n",
              "  }\n",
              "\n",
              "  .colab-df-quickchart {\n",
              "    background-color: var(--bg-color);\n",
              "    border: none;\n",
              "    border-radius: 50%;\n",
              "    cursor: pointer;\n",
              "    display: none;\n",
              "    fill: var(--fill-color);\n",
              "    height: 32px;\n",
              "    padding: 0;\n",
              "    width: 32px;\n",
              "  }\n",
              "\n",
              "  .colab-df-quickchart:hover {\n",
              "    background-color: var(--hover-bg-color);\n",
              "    box-shadow: 0 1px 2px rgba(60, 64, 67, 0.3), 0 1px 3px 1px rgba(60, 64, 67, 0.15);\n",
              "    fill: var(--button-hover-fill-color);\n",
              "  }\n",
              "\n",
              "  .colab-df-quickchart-complete:disabled,\n",
              "  .colab-df-quickchart-complete:disabled:hover {\n",
              "    background-color: var(--disabled-bg-color);\n",
              "    fill: var(--disabled-fill-color);\n",
              "    box-shadow: none;\n",
              "  }\n",
              "\n",
              "  .colab-df-spinner {\n",
              "    border: 2px solid var(--fill-color);\n",
              "    border-color: transparent;\n",
              "    border-bottom-color: var(--fill-color);\n",
              "    animation:\n",
              "      spin 1s steps(1) infinite;\n",
              "  }\n",
              "\n",
              "  @keyframes spin {\n",
              "    0% {\n",
              "      border-color: transparent;\n",
              "      border-bottom-color: var(--fill-color);\n",
              "      border-left-color: var(--fill-color);\n",
              "    }\n",
              "    20% {\n",
              "      border-color: transparent;\n",
              "      border-left-color: var(--fill-color);\n",
              "      border-top-color: var(--fill-color);\n",
              "    }\n",
              "    30% {\n",
              "      border-color: transparent;\n",
              "      border-left-color: var(--fill-color);\n",
              "      border-top-color: var(--fill-color);\n",
              "      border-right-color: var(--fill-color);\n",
              "    }\n",
              "    40% {\n",
              "      border-color: transparent;\n",
              "      border-right-color: var(--fill-color);\n",
              "      border-top-color: var(--fill-color);\n",
              "    }\n",
              "    60% {\n",
              "      border-color: transparent;\n",
              "      border-right-color: var(--fill-color);\n",
              "    }\n",
              "    80% {\n",
              "      border-color: transparent;\n",
              "      border-right-color: var(--fill-color);\n",
              "      border-bottom-color: var(--fill-color);\n",
              "    }\n",
              "    90% {\n",
              "      border-color: transparent;\n",
              "      border-bottom-color: var(--fill-color);\n",
              "    }\n",
              "  }\n",
              "</style>\n",
              "\n",
              "  <script>\n",
              "    async function quickchart(key) {\n",
              "      const quickchartButtonEl =\n",
              "        document.querySelector('#' + key + ' button');\n",
              "      quickchartButtonEl.disabled = true;  // To prevent multiple clicks.\n",
              "      quickchartButtonEl.classList.add('colab-df-spinner');\n",
              "      try {\n",
              "        const charts = await google.colab.kernel.invokeFunction(\n",
              "            'suggestCharts', [key], {});\n",
              "      } catch (error) {\n",
              "        console.error('Error during call to suggestCharts:', error);\n",
              "      }\n",
              "      quickchartButtonEl.classList.remove('colab-df-spinner');\n",
              "      quickchartButtonEl.classList.add('colab-df-quickchart-complete');\n",
              "    }\n",
              "    (() => {\n",
              "      let quickchartButtonEl =\n",
              "        document.querySelector('#df-50235d64-c90b-4452-8f78-2312a3c86630 button');\n",
              "      quickchartButtonEl.style.display =\n",
              "        google.colab.kernel.accessAllowed ? 'block' : 'none';\n",
              "    })();\n",
              "  </script>\n",
              "</div>\n",
              "\n",
              "    </div>\n",
              "  </div>\n"
            ]
          },
          "metadata": {},
          "execution_count": 4
        }
      ]
    },
    {
      "cell_type": "code",
      "source": [
        "train_df, test_df = train_test_split(df, test_size=0.2, random_state=42, stratify=df[classes])"
      ],
      "metadata": {
        "id": "KVzBytTchOHJ"
      },
      "execution_count": 5,
      "outputs": []
    },
    {
      "cell_type": "code",
      "source": [
        "class AlbumentationsDataGenerator(Sequence):\n",
        "    def __init__(self, dataframe, directory, batch_size=32, target_size=(224, 224),\n",
        "                 shuffle=True, augmentation=None, class_columns=None):\n",
        "        self.dataframe = dataframe.copy()\n",
        "        self.directory = directory\n",
        "        self.batch_size = batch_size\n",
        "        self.target_size = target_size\n",
        "        self.shuffle = shuffle\n",
        "        self.augmentation = augmentation\n",
        "        if class_columns is None:\n",
        "            self.class_columns = dataframe.columns[2:]\n",
        "        else:\n",
        "            self.class_columns = class_columns\n",
        "\n",
        "        self.on_epoch_end()\n",
        "\n",
        "    def __len__(self):\n",
        "        return int(np.ceil(len(self.dataframe) / float(self.batch_size)))\n",
        "\n",
        "    def on_epoch_end(self):\n",
        "        self.indices = np.arange(len(self.dataframe))\n",
        "        if self.shuffle:\n",
        "            np.random.shuffle(self.indices)\n",
        "    def __getitem__(self, idx):\n",
        "        batch_indices = self.indices[idx * self.batch_size:(idx + 1) * self.batch_size]\n",
        "        batch_images = []\n",
        "        batch_labels = []\n",
        "\n",
        "        for i in batch_indices:\n",
        "            row = self.dataframe.iloc[i]\n",
        "            image = cv2.imread(os.path.join(self.directory, row['Image']))\n",
        "            image = cv2.cvtColor(image, cv2.COLOR_BGR2RGB)\n",
        "            image = cv2.resize(image, self.target_size)\n",
        "\n",
        "            if self.augmentation:\n",
        "                augmented = self.augmentation(image=image)\n",
        "                image = augmented['image']\n",
        "\n",
        "            # Convert image to float32 and normalize\n",
        "            batch_images.append(image.astype('float32') / 255.0)\n",
        "\n",
        "            # Convert label to float32\n",
        "            batch_labels.append(row[self.class_columns].astype('float32'))\n",
        "\n",
        "        return np.array(batch_images), np.array(batch_labels)\n",
        "\n",
        "\n",
        "# Define the augmentation pipeline\n",
        "albumentations_train = Compose([\n",
        "    VerticalFlip(),\n",
        "    HorizontalFlip(),\n",
        "    Rotate(limit=20),\n",
        "    GridDistortion()\n",
        "], p=1)\n"
      ],
      "metadata": {
        "id": "_pdfE9oMhXlI"
      },
      "execution_count": 6,
      "outputs": []
    },
    {
      "cell_type": "code",
      "source": [
        "train_dataset_path = \"/content/drive/MyDrive/understanding_cloud_organization/train_images\"\n",
        "train_generator = AlbumentationsDataGenerator(\n",
        "    dataframe=train_df,\n",
        "    directory=train_dataset_path,\n",
        "    batch_size=32,\n",
        "    target_size=(224, 224),\n",
        "    shuffle=True,\n",
        "    augmentation=albumentations_train,\n",
        "    class_columns=classes\n",
        ")\n",
        "\n",
        "test_generator = AlbumentationsDataGenerator(\n",
        "    dataframe=test_df,\n",
        "    directory=train_dataset_path,\n",
        "    batch_size=32,\n",
        "    target_size=(224, 224),\n",
        "    shuffle=False,\n",
        "    augmentation=None,\n",
        "    class_columns=classes\n",
        ")"
      ],
      "metadata": {
        "id": "l6YyQDGAbfX2"
      },
      "execution_count": 7,
      "outputs": []
    },
    {
      "cell_type": "code",
      "source": [
        "import efficientnet.keras as efn\n",
        "\n",
        "def get_model():\n",
        "    K.clear_session()\n",
        "    base_model =  efn.EfficientNetB2(weights='imagenet', include_top=False, pooling='avg', input_shape=(260, 260, 3))\n",
        "    x = base_model.output\n",
        "    y_pred = Dense(4, activation='sigmoid')(x)\n",
        "    return Model(inputs=base_model.input, outputs=y_pred)\n",
        "\n",
        "model = get_model()\n"
      ],
      "metadata": {
        "id": "scC6OTTQcZOa"
      },
      "execution_count": 8,
      "outputs": []
    },
    {
      "cell_type": "code",
      "source": [
        "model.save('model.keras')\n"
      ],
      "metadata": {
        "id": "6QScPL0vVX9P"
      },
      "execution_count": 56,
      "outputs": []
    },
    {
      "cell_type": "code",
      "source": [
        "for base_layer in model.layers[:-3]:\n",
        "    base_layer.trainable = False\n",
        "num_cores = multiprocessing.cpu_count()\n",
        "model.compile(optimizer=\"Adam\",  loss='categorical_crossentropy', metrics=['accuracy'])\n",
        "history_0 = model.fit_generator(generator=train_generator,\n",
        "                              validation_data=test_generator,\n",
        "                              epochs=13,\n",
        "                              workers=num_cores,\n",
        "                              verbose=1\n",
        "                             )"
      ],
      "metadata": {
        "colab": {
          "base_uri": "https://localhost:8080/"
        },
        "id": "PmQtlqzscNHk",
        "outputId": "7a6aac56-7a71-4aac-e7af-b2cc054dc076"
      },
      "execution_count": 9,
      "outputs": [
        {
          "metadata": {
            "tags": null
          },
          "name": "stderr",
          "output_type": "stream",
          "text": [
            "<ipython-input-9-2f9c21280c37>:5: UserWarning: `Model.fit_generator` is deprecated and will be removed in a future version. Please use `Model.fit`, which supports generators.\n",
            "  history_0 = model.fit_generator(generator=train_generator,\n"
          ]
        },
        {
          "output_type": "stream",
          "name": "stdout",
          "text": [
            "Epoch 1/13\n",
            "139/139 [==============================] - 308s 2s/step - loss: 2.9267 - accuracy: 0.2622 - val_loss: 2.8437 - val_accuracy: 0.3811\n",
            "Epoch 2/13\n",
            "139/139 [==============================] - 290s 2s/step - loss: 2.8499 - accuracy: 0.3476 - val_loss: 2.8078 - val_accuracy: 0.3757\n",
            "Epoch 3/13\n",
            "139/139 [==============================] - 284s 2s/step - loss: 2.8369 - accuracy: 0.3729 - val_loss: 2.8266 - val_accuracy: 0.3649\n",
            "Epoch 4/13\n",
            "139/139 [==============================] - 290s 2s/step - loss: 2.8388 - accuracy: 0.3704 - val_loss: 2.8257 - val_accuracy: 0.4658\n",
            "Epoch 5/13\n",
            "139/139 [==============================] - 290s 2s/step - loss: 2.8521 - accuracy: 0.3826 - val_loss: 2.7833 - val_accuracy: 0.3892\n",
            "Epoch 6/13\n",
            "139/139 [==============================] - 279s 2s/step - loss: 2.8495 - accuracy: 0.3688 - val_loss: 2.8025 - val_accuracy: 0.4360\n",
            "Epoch 7/13\n",
            "139/139 [==============================] - 285s 2s/step - loss: 2.8712 - accuracy: 0.3846 - val_loss: 2.8142 - val_accuracy: 0.4081\n",
            "Epoch 8/13\n",
            "139/139 [==============================] - 291s 2s/step - loss: 2.8677 - accuracy: 0.3911 - val_loss: 2.8148 - val_accuracy: 0.4027\n",
            "Epoch 9/13\n",
            "139/139 [==============================] - 289s 2s/step - loss: 2.8707 - accuracy: 0.3857 - val_loss: 2.8128 - val_accuracy: 0.4495\n",
            "Epoch 10/13\n",
            "139/139 [==============================] - 279s 2s/step - loss: 2.8917 - accuracy: 0.3882 - val_loss: 2.8026 - val_accuracy: 0.4162\n",
            "Epoch 11/13\n",
            "139/139 [==============================] - 293s 2s/step - loss: 2.8979 - accuracy: 0.3889 - val_loss: 2.8624 - val_accuracy: 0.4595\n",
            "Epoch 12/13\n",
            "139/139 [==============================] - 294s 2s/step - loss: 2.8980 - accuracy: 0.3940 - val_loss: 2.8331 - val_accuracy: 0.4018\n",
            "Epoch 13/13\n",
            "139/139 [==============================] - 288s 2s/step - loss: 2.9306 - accuracy: 0.3884 - val_loss: 2.9090 - val_accuracy: 0.4468\n"
          ]
        }
      ]
    },
    {
      "cell_type": "code",
      "source": [
        "import keras\n",
        "import tensorflow as tf\n",
        "for base_layer in model.layers[:-3]:\n",
        "    base_layer.trainable = True\n",
        "\n",
        "model.compile(optimizer=keras.optimizers.Adam(1e-5),  loss='categorical_crossentropy', metrics=['accuracy',tf.keras.metrics.AUC()])\n",
        "history_1 = model.fit_generator(generator=train_generator,\n",
        "                              validation_data=test_generator,\n",
        "                              epochs=2,\n",
        "                              workers=num_cores,\n",
        "                              verbose=1\n",
        "                             )"
      ],
      "metadata": {
        "colab": {
          "base_uri": "https://localhost:8080/"
        },
        "id": "Ca-Y_KZw7cR-",
        "outputId": "c1f3fdc1-aaf9-45ad-9676-272ac2dc5778"
      },
      "execution_count": 31,
      "outputs": [
        {
          "metadata": {
            "tags": null
          },
          "name": "stderr",
          "output_type": "stream",
          "text": [
            "<ipython-input-31-f4b84ec81704>:7: UserWarning: `Model.fit_generator` is deprecated and will be removed in a future version. Please use `Model.fit`, which supports generators.\n",
            "  history_1 = model.fit_generator(generator=train_generator,\n"
          ]
        },
        {
          "output_type": "stream",
          "name": "stdout",
          "text": [
            "Epoch 1/2\n",
            "139/139 [==============================] - 382s 2s/step - loss: 12.9353 - accuracy: 0.5014 - auc_2: 0.5000 - val_loss: 18.2954 - val_accuracy: 0.5018 - val_auc_2: 0.5000\n",
            "Epoch 2/2\n",
            "139/139 [==============================] - 296s 2s/step - loss: 12.7689 - accuracy: 0.5014 - auc_2: 0.5000 - val_loss: 16.8879 - val_accuracy: 0.5018 - val_auc_2: 0.5000\n"
          ]
        }
      ]
    },
    {
      "cell_type": "code",
      "source": [
        "def plot_acc_err(hist):\n",
        "    plt.figure(figsize=(20,15))\n",
        "    fig, axs = plt.subplots(2)\n",
        "    axs[0].plot(hist.history[\"accuracy\"], label=\"train accuracy\")\n",
        "    axs[0].plot(hist.history[\"val_accuracy\"], label=\"test accuracy\")\n",
        "    axs[0].set_ylabel(\"Accuracy\")\n",
        "    axs[0].legend(loc=\"lower right\")\n",
        "    axs[0].set_title(\"Accuracy eval\")\n",
        "    print(\"\\n\")\n",
        "    # Error\n",
        "    axs[1].plot(hist.history[\"loss\"], label=\"train error\")\n",
        "    axs[1].plot(hist.history[\"val_loss\"], label=\"test error\")\n",
        "    axs[1].set_ylabel(\"Error\")\n",
        "    axs[1].set_xlabel(\"Epoch\")\n",
        "    axs[1].legend(loc=\"upper right\")\n",
        "    axs[1].set_title(\"Error eval\")\n",
        "\n",
        "    plt.show()"
      ],
      "metadata": {
        "id": "KovlfEHAYXB7"
      },
      "execution_count": 27,
      "outputs": []
    },
    {
      "cell_type": "code",
      "source": [
        "plot_acc_err(history_0)\n"
      ],
      "metadata": {
        "colab": {
          "base_uri": "https://localhost:8080/",
          "height": 525
        },
        "id": "CMkAEQYUrdWs",
        "outputId": "7fba69de-f743-4310-85fd-5a9e6a5304bf"
      },
      "execution_count": 32,
      "outputs": [
        {
          "output_type": "stream",
          "name": "stdout",
          "text": [
            "\n",
            "\n"
          ]
        },
        {
          "output_type": "display_data",
          "data": {
            "text/plain": [
              "<Figure size 2000x1500 with 0 Axes>"
            ]
          },
          "metadata": {}
        },
        {
          "output_type": "display_data",
          "data": {
            "text/plain": [
              "<Figure size 640x480 with 2 Axes>"
            ],
            "image/png": "[encoded data removed]"
          },
          "metadata": {}
        }
      ]
    },
    {
      "cell_type": "code",
      "source": [
        "y_pred_probs = model.predict(train_generator).ravel()\n"
      ],
      "metadata": {
        "colab": {
          "base_uri": "https://localhost:8080/"
        },
        "id": "_kLqG4qbwDrr",
        "outputId": "76245a0c-8d77-4be7-8a1c-15142a6d5f77"
      },
      "execution_count": 34,
      "outputs": [
        {
          "output_type": "stream",
          "name": "stdout",
          "text": [
            "139/139 [==============================] - 274s 2s/step\n"
          ]
        }
      ]
    },
    {
      "cell_type": "code",
      "source": [
        "print(\"The AUC score on the validation set is:\", history_1.history['val_accuracy'][-1])"
      ],
      "metadata": {
        "colab": {
          "base_uri": "https://localhost:8080/"
        },
        "id": "_bbUjkddxEaA",
        "outputId": "cafb9243-674b-40c1-e4c2-1500ab06cc77"
      },
      "execution_count": 45,
      "outputs": [
        {
          "output_type": "stream",
          "name": "stdout",
          "text": [
            "The AUC score on the validation set is: 0.5018017888069153\n"
          ]
        }
      ]
    }
  ]
}